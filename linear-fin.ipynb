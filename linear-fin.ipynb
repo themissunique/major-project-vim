{
 "cells": [
  {
   "cell_type": "code",
   "execution_count": 1,
   "id": "1a9e6e01-9cf8-4567-9464-1842345dd20c",
   "metadata": {},
   "outputs": [],
   "source": [
    "import numpy as np\n",
    "import matplotlib.pyplot as plt\n",
    "from sympy import symbols, Function, diff, integrate, exp, lambdify\n",
    "\n",
    "# Define the symbols\n",
    "theta, x, omega, s, C, lambda_expr = symbols('theta x omega s C lambda')\n",
    "theta = Function('theta')(x)"
   ]
  },
  {
   "cell_type": "code",
   "execution_count": 2,
   "id": "ffc3348f-96e8-4331-ae47-1c126344eb35",
   "metadata": {},
   "outputs": [
    {
     "data": {
      "text/latex": [
       "$\\displaystyle \\theta{\\left(x \\right)}$"
      ],
      "text/plain": [
       "theta(x)"
      ]
     },
     "execution_count": 2,
     "metadata": {},
     "output_type": "execute_result"
    }
   ],
   "source": [
    "theta"
   ]
  },
  {
   "cell_type": "code",
   "execution_count": 3,
   "id": "575ebc65-474c-41f2-88b0-63869719d333",
   "metadata": {},
   "outputs": [
    {
     "data": {
      "text/latex": [
       "$\\displaystyle x$"
      ],
      "text/plain": [
       "x"
      ]
     },
     "execution_count": 3,
     "metadata": {},
     "output_type": "execute_result"
    }
   ],
   "source": [
    "x"
   ]
  },
  {
   "cell_type": "code",
   "execution_count": 4,
   "id": "373c0573-ce65-47e7-8211-d33f751e2d5c",
   "metadata": {},
   "outputs": [
    {
     "data": {
      "text/latex": [
       "$\\displaystyle \\omega$"
      ],
      "text/plain": [
       "omega"
      ]
     },
     "execution_count": 4,
     "metadata": {},
     "output_type": "execute_result"
    }
   ],
   "source": [
    "omega"
   ]
  },
  {
   "cell_type": "code",
   "execution_count": 5,
   "id": "faaa38d2-e005-4846-b818-ae41d874f388",
   "metadata": {},
   "outputs": [
    {
     "data": {
      "text/latex": [
       "$\\displaystyle s$"
      ],
      "text/plain": [
       "s"
      ]
     },
     "execution_count": 5,
     "metadata": {},
     "output_type": "execute_result"
    }
   ],
   "source": [
    "s"
   ]
  },
  {
   "cell_type": "code",
   "execution_count": 6,
   "id": "7d16c14c-434d-4e8c-935d-48899598053e",
   "metadata": {},
   "outputs": [
    {
     "data": {
      "text/latex": [
       "$\\displaystyle C$"
      ],
      "text/plain": [
       "C"
      ]
     },
     "execution_count": 6,
     "metadata": {},
     "output_type": "execute_result"
    }
   ],
   "source": [
    "C"
   ]
  },
  {
   "cell_type": "code",
   "execution_count": 7,
   "id": "2ac00c98-a9fc-4e02-94e6-0a01659cd152",
   "metadata": {},
   "outputs": [
    {
     "data": {
      "text/latex": [
       "$\\displaystyle \\lambda$"
      ],
      "text/plain": [
       "lambda"
      ]
     },
     "execution_count": 7,
     "metadata": {},
     "output_type": "execute_result"
    }
   ],
   "source": [
    "lambda_expr"
   ]
  },
  {
   "cell_type": "code",
   "execution_count": 8,
   "id": "189431ab-baaa-4237-ab2c-32aebff27128",
   "metadata": {},
   "outputs": [],
   "source": [
    "ode=diff(theta,x, 2) - (omega **2 ) * theta"
   ]
  },
  {
   "cell_type": "code",
   "execution_count": 9,
   "id": "516b1a47-ce15-453c-8de3-856ced91fd8e",
   "metadata": {},
   "outputs": [
    {
     "data": {
      "text/latex": [
       "$\\displaystyle - \\omega^{2} \\theta{\\left(x \\right)} + \\frac{d^{2}}{d x^{2}} \\theta{\\left(x \\right)}$"
      ],
      "text/plain": [
       "-omega**2*theta(x) + Derivative(theta(x), (x, 2))"
      ]
     },
     "execution_count": 9,
     "metadata": {},
     "output_type": "execute_result"
    }
   ],
   "source": [
    "ode"
   ]
  },
  {
   "cell_type": "code",
   "execution_count": 10,
   "id": "3f22f4ff-d142-4896-a9a6-ce83a6113a99",
   "metadata": {},
   "outputs": [],
   "source": [
    "lambda_expr=s-x"
   ]
  },
  {
   "cell_type": "code",
   "execution_count": 11,
   "id": "e05bd957-6fc4-4c32-88db-f7c8dc8c0a2c",
   "metadata": {},
   "outputs": [
    {
     "data": {
      "text/latex": [
       "$\\displaystyle s - x$"
      ],
      "text/plain": [
       "s - x"
      ]
     },
     "execution_count": 11,
     "metadata": {},
     "output_type": "execute_result"
    }
   ],
   "source": [
    "lambda_expr"
   ]
  },
  {
   "cell_type": "code",
   "execution_count": 12,
   "id": "3c744f48-df11-41b1-82f8-e709e3076a5d",
   "metadata": {},
   "outputs": [],
   "source": [
    "theta0=C+(1-C)*(x**2)"
   ]
  },
  {
   "cell_type": "code",
   "execution_count": 13,
   "id": "d04eef97-bf69-4360-993e-6b62c8161e97",
   "metadata": {},
   "outputs": [
    {
     "data": {
      "text/latex": [
       "$\\displaystyle C + x^{2} \\left(1 - C\\right)$"
      ],
      "text/plain": [
       "C + x**2*(1 - C)"
      ]
     },
     "execution_count": 13,
     "metadata": {},
     "output_type": "execute_result"
    }
   ],
   "source": [
    "theta0"
   ]
  },
  {
   "cell_type": "code",
   "execution_count": 14,
   "id": "82e5be36-f26e-4023-a3d7-b1b2b3859218",
   "metadata": {},
   "outputs": [],
   "source": [
    "theta1=theta0+integrate(\n",
    "    lambda_expr * (diff(theta0,x, 2) - (omega **2 ) * theta0),\n",
    "    (s, 0, x)\n",
    ")"
   ]
  },
  {
   "cell_type": "code",
   "execution_count": 15,
   "id": "b0e8033c-6961-4fcf-9c36-0ac97bd0664b",
   "metadata": {},
   "outputs": [
    {
     "data": {
      "text/latex": [
       "$\\displaystyle C + x^{2} \\left(1 - C\\right) + x^{2} \\left(\\frac{C \\omega^{2} x^{2}}{2} - \\frac{C \\omega^{2}}{2} - C - \\frac{\\omega^{2} x^{2}}{2} + 1\\right) + x \\left(- C \\omega^{2} x^{3} + C \\omega^{2} x + 2 C x + \\omega^{2} x^{3} - 2 x\\right)$"
      ],
      "text/plain": [
       "C + x**2*(1 - C) + x**2*(C*omega**2*x**2/2 - C*omega**2/2 - C - omega**2*x**2/2 + 1) + x*(-C*omega**2*x**3 + C*omega**2*x + 2*C*x + omega**2*x**3 - 2*x)"
      ]
     },
     "execution_count": 15,
     "metadata": {},
     "output_type": "execute_result"
    }
   ],
   "source": [
    "theta1"
   ]
  },
  {
   "cell_type": "code",
   "execution_count": 16,
   "id": "44941849-ba89-4c33-91d2-4968ec9ad883",
   "metadata": {},
   "outputs": [],
   "source": [
    "def vim( iterations, x, omega, s, C, lambda_expr):\n",
    "    theta=C+(1-C)*(x**2)\n",
    "    for i in range(iterations):\n",
    "        theta=theta+integrate(\n",
    "                lambda_expr * (diff(theta,x, 2) - (omega **2 ) * theta),\n",
    "                    (s, 0, x)\n",
    "                        )\n",
    "    return theta\n",
    "        "
   ]
  },
  {
   "cell_type": "code",
   "execution_count": 17,
   "id": "471d5937-b612-4081-b124-ceb058ea8120",
   "metadata": {},
   "outputs": [],
   "source": [
    "theta1=vim(1,x,omega,s,C,lambda_expr)"
   ]
  },
  {
   "cell_type": "code",
   "execution_count": 18,
   "id": "380da5db-669b-47ff-975c-e4520c1dad32",
   "metadata": {},
   "outputs": [
    {
     "data": {
      "text/latex": [
       "$\\displaystyle C + x^{2} \\left(1 - C\\right) + x^{2} \\left(\\frac{C \\omega^{2} x^{2}}{2} - \\frac{C \\omega^{2}}{2} - C - \\frac{\\omega^{2} x^{2}}{2} + 1\\right) + x \\left(- C \\omega^{2} x^{3} + C \\omega^{2} x + 2 C x + \\omega^{2} x^{3} - 2 x\\right)$"
      ],
      "text/plain": [
       "C + x**2*(1 - C) + x**2*(C*omega**2*x**2/2 - C*omega**2/2 - C - omega**2*x**2/2 + 1) + x*(-C*omega**2*x**3 + C*omega**2*x + 2*C*x + omega**2*x**3 - 2*x)"
      ]
     },
     "execution_count": 18,
     "metadata": {},
     "output_type": "execute_result"
    }
   ],
   "source": [
    "theta1"
   ]
  },
  {
   "cell_type": "code",
   "execution_count": 19,
   "id": "e6c8f615-1198-436f-9ee8-15e775dcfc0c",
   "metadata": {},
   "outputs": [],
   "source": [
    "theta2=vim(2,x,omega,s,C,lambda_expr)"
   ]
  },
  {
   "cell_type": "code",
   "execution_count": 20,
   "id": "506e642c-7524-41a9-865c-55b246d52634",
   "metadata": {},
   "outputs": [
    {
     "data": {
      "text/latex": [
       "$\\displaystyle C + x^{2} \\left(1 - C\\right) + x^{2} \\left(\\frac{C \\omega^{2} x^{2}}{2} - \\frac{C \\omega^{2}}{2} - C - \\frac{\\omega^{2} x^{2}}{2} + 1\\right) + x^{2} \\left(\\frac{C \\omega^{4} x^{4}}{4} - \\frac{C \\omega^{4} x^{2}}{4} - 3 C \\omega^{2} x^{2} - \\frac{\\omega^{4} x^{4}}{4} + 3 \\omega^{2} x^{2}\\right) + x \\left(- C \\omega^{2} x^{3} + C \\omega^{2} x + 2 C x + \\omega^{2} x^{3} - 2 x\\right) + x \\left(- \\frac{C \\omega^{4} x^{5}}{2} + \\frac{C \\omega^{4} x^{3}}{2} + 6 C \\omega^{2} x^{3} + \\frac{\\omega^{4} x^{5}}{2} - 6 \\omega^{2} x^{3}\\right)$"
      ],
      "text/plain": [
       "C + x**2*(1 - C) + x**2*(C*omega**2*x**2/2 - C*omega**2/2 - C - omega**2*x**2/2 + 1) + x**2*(C*omega**4*x**4/4 - C*omega**4*x**2/4 - 3*C*omega**2*x**2 - omega**4*x**4/4 + 3*omega**2*x**2) + x*(-C*omega**2*x**3 + C*omega**2*x + 2*C*x + omega**2*x**3 - 2*x) + x*(-C*omega**4*x**5/2 + C*omega**4*x**3/2 + 6*C*omega**2*x**3 + omega**4*x**5/2 - 6*omega**2*x**3)"
      ]
     },
     "execution_count": 20,
     "metadata": {},
     "output_type": "execute_result"
    }
   ],
   "source": [
    "theta2"
   ]
  },
  {
   "cell_type": "code",
   "execution_count": 21,
   "id": "29c97de7-8f97-46d1-8264-6107d6157f99",
   "metadata": {},
   "outputs": [],
   "source": [
    "theta3=vim(3,x,omega=2,s=s,C=0.9,lambda_expr=lambda_expr)"
   ]
  },
  {
   "cell_type": "code",
   "execution_count": 22,
   "id": "65fadc23-1320-4260-8db4-588a40847771",
   "metadata": {},
   "outputs": [
    {
     "data": {
      "text/latex": [
       "$\\displaystyle x^{2} \\left(- 0.2 x^{2} - 1.7\\right) + x^{2} \\left(- 0.4 x^{4} - 2.4 x^{2} + 2.22044604925031 \\cdot 10^{-16}\\right) + x^{2} \\left(- 0.8 x^{6} + 0.799999999999999 x^{4} + 12.0 x^{2}\\right) + 0.1 x^{2} + x \\left(0.4 x^{3} + 3.4 x\\right) + x \\left(0.8 x^{5} + 4.8 x^{3} - 4.44089209850063 \\cdot 10^{-16} x\\right) + x \\left(1.6 x^{7} - 1.6 x^{5} - 24.0 x^{3}\\right) + 0.9$"
      ],
      "text/plain": [
       "x**2*(-0.2*x**2 - 1.7) + x**2*(-0.4*x**4 - 2.4*x**2 + 2.22044604925031e-16) + x**2*(-0.8*x**6 + 0.799999999999999*x**4 + 12.0*x**2) + 0.1*x**2 + x*(0.4*x**3 + 3.4*x) + x*(0.8*x**5 + 4.8*x**3 - 4.44089209850063e-16*x) + x*(1.6*x**7 - 1.6*x**5 - 24.0*x**3) + 0.9"
      ]
     },
     "execution_count": 22,
     "metadata": {},
     "output_type": "execute_result"
    }
   ],
   "source": [
    "theta3"
   ]
  },
  {
   "cell_type": "code",
   "execution_count": 23,
   "id": "ee3bac56-2b48-4a3c-aa3a-298868505850",
   "metadata": {},
   "outputs": [
    {
     "data": {
      "text/plain": [
       "sympy.core.add.Add"
      ]
     },
     "execution_count": 23,
     "metadata": {},
     "output_type": "execute_result"
    }
   ],
   "source": [
    "type(theta3)"
   ]
  },
  {
   "cell_type": "code",
   "execution_count": 27,
   "id": "3a564e38-8bf2-4127-99d3-62fdb98ed8a8",
   "metadata": {},
   "outputs": [
    {
     "data": {
      "image/png": "[encoded data removed]",
      "text/plain": [
       "<Figure size 800x500 with 1 Axes>"
      ]
     },
     "metadata": {},
     "output_type": "display_data"
    }
   ],
   "source": [
    "import numpy as np\n",
    "import sympy as sp\n",
    "import matplotlib.pyplot as plt\n",
    "\n",
    "# Define symbolic variable\n",
    "x_sym = sp.Symbol('x')  # Ensure x is symbolic for differentiation\n",
    "\n",
    "# Define the Variational Iteration Method function\n",
    "def vim(iterations, x_val, omega, s, C, lambda_expr):\n",
    "    theta = C + (1 - C) * (x_sym**2)  # Ensure x_sym is used symbolically\n",
    "\n",
    "    for i in range(iterations):\n",
    "        correction = sp.integrate(\n",
    "            lambda_expr * (sp.diff(theta, x_sym, 2) - (omega ** 2) * theta),\n",
    "            (x_sym, 0, x_sym)  # Ensure integration is done symbolically\n",
    "        )\n",
    "        theta += correction\n",
    "\n",
    "    # Convert symbolic result to a numerical function\n",
    "    theta_func = sp.lambdify(x_sym, theta, \"numpy\")\n",
    "    \n",
    "    # Evaluate theta for numerical x values\n",
    "    return theta_func(x_val)\n",
    "\n",
    "# Define parameters\n",
    "s = 2  \n",
    "C = 0.9\n",
    "lambda_expr = 1  # Adjust based on the actual equation\n",
    "omega = 2\n",
    "\n",
    "# Generate integer x values\n",
    "x = np.arange(0, 200, 10, dtype=int)\n",
    "\n",
    "# Compute theta(x) values\n",
    "theta_values = np.array([vim(2, i, omega, s, C, lambda_expr) for i in x])\n",
    "\n",
    "# Plot theta(x) vs x\n",
    "plt.figure(figsize=(8, 5))\n",
    "plt.plot(x, theta_values, label=r'$\\theta(x)$', color='b', marker='o')\n",
    "plt.xlabel(\"x\")\n",
    "plt.ylabel(r'$\\theta(x)$')\n",
    "plt.title(\"Plot of θ(x) vs x using VIM (Integer x values)\")\n",
    "plt.legend()\n",
    "plt.grid(True)\n",
    "plt.show()\n"
   ]
  },
  {
   "cell_type": "code",
   "execution_count": null,
   "id": "56385c2b-e682-4ab4-8469-ddcb63e16423",
   "metadata": {},
   "outputs": [],
   "source": []
  },
  {
   "cell_type": "code",
   "execution_count": null,
   "id": "629fbec8-fb51-41a7-9236-4875a9f176b2",
   "metadata": {},
   "outputs": [],
   "source": []
  }
 ],
 "metadata": {
  "kernelspec": {
   "display_name": "Python 3 (ipykernel)",
   "language": "python",
   "name": "python3"
  },
  "language_info": {
   "codemirror_mode": {
    "name": "ipython",
    "version": 3
   },
   "file_extension": ".py",
   "mimetype": "text/x-python",
   "name": "python",
   "nbconvert_exporter": "python",
   "pygments_lexer": "ipython3",
   "version": "3.12.7"
  }
 },
 "nbformat": 4,
 "nbformat_minor": 5
}
